{
 "cells": [
  {
   "cell_type": "markdown",
   "id": "64a7ab22",
   "metadata": {},
   "source": [
    "# Corporate Training Mentor-Student Tracking\n",
    "\n",
    "The notebook serves as an oversimplied app to track the reports of the mentor-student interaction. It facilitates three tasks:\n",
    "- loading the reports submitted by mentors for a particular week;\n",
    "- sending a reminder to each mentor who hasn't submitted a report at a checking point;\n",
    "- collecting all the mentors' reports and generating a report to the training manager on the client side.\n",
    "\n",
    "## Task 0: Load all tools needed"
   ]
  },
  {
   "cell_type": "code",
   "execution_count": 1,
   "id": "d688e281",
   "metadata": {},
   "outputs": [],
   "source": [
    "from helpers import *"
   ]
  },
  {
   "cell_type": "markdown",
   "id": "f99934f6",
   "metadata": {},
   "source": [
    "## Task 1: Load mentor-student pairs\n",
    "\n",
    "- Each student is assigned a mentor. Each student-mentor pair has a Google Drive folder with the reports in it. The folder id for each student-mentor pair can be found in the Google Sheet with the Google Sheet id, `mentor_student_sheet_id`"
   ]
  },
  {
   "cell_type": "code",
   "execution_count": 2,
   "id": "ed1b467e",
   "metadata": {},
   "outputs": [
    {
     "data": {
      "text/html": [
       "<div>\n",
       "<style scoped>\n",
       "    .dataframe tbody tr th:only-of-type {\n",
       "        vertical-align: middle;\n",
       "    }\n",
       "\n",
       "    .dataframe tbody tr th {\n",
       "        vertical-align: top;\n",
       "    }\n",
       "\n",
       "    .dataframe thead th {\n",
       "        text-align: right;\n",
       "    }\n",
       "</style>\n",
       "<table border=\"1\" class=\"dataframe\">\n",
       "  <thead>\n",
       "    <tr style=\"text-align: right;\">\n",
       "      <th></th>\n",
       "      <th>mentor</th>\n",
       "      <th>student</th>\n",
       "      <th>folder_id</th>\n",
       "      <th>form_url</th>\n",
       "    </tr>\n",
       "  </thead>\n",
       "  <tbody>\n",
       "    <tr>\n",
       "      <th>0</th>\n",
       "      <td>Test Mentor</td>\n",
       "      <td>Luke Landwalker</td>\n",
       "      <td>1-CF6p_lm4Mo5kOOGFnz9wgZG0zIiXYs9</td>\n",
       "      <td>https://forms.gle/wkTM923e2gjQoQG76</td>\n",
       "    </tr>\n",
       "    <tr>\n",
       "      <th>1</th>\n",
       "      <td>Test Mentor</td>\n",
       "      <td>Luke Dragon</td>\n",
       "      <td>1lppKfLfkdU9CeX-gJ1dhvYnwZLK3GidP</td>\n",
       "      <td>https://forms.gle/BaSp5QtSts6xxEQS6</td>\n",
       "    </tr>\n",
       "  </tbody>\n",
       "</table>\n",
       "</div>"
      ],
      "text/plain": [
       "        mentor          student                          folder_id  \\\n",
       "0  Test Mentor  Luke Landwalker  1-CF6p_lm4Mo5kOOGFnz9wgZG0zIiXYs9   \n",
       "1  Test Mentor      Luke Dragon  1lppKfLfkdU9CeX-gJ1dhvYnwZLK3GidP   \n",
       "\n",
       "                              form_url  \n",
       "0  https://forms.gle/wkTM923e2gjQoQG76  \n",
       "1  https://forms.gle/BaSp5QtSts6xxEQS6  "
      ]
     },
     "execution_count": 2,
     "metadata": {},
     "output_type": "execute_result"
    }
   ],
   "source": [
    "mentor_students"
   ]
  },
  {
   "cell_type": "markdown",
   "id": "e4ff9fe0",
   "metadata": {},
   "source": [
    "- Mentors' emails are in a Google Sheet whose Google Sheet id is `mentor_sheet_id`."
   ]
  },
  {
   "cell_type": "code",
   "execution_count": 3,
   "id": "a1c894fd",
   "metadata": {},
   "outputs": [
    {
     "data": {
      "text/html": [
       "<div>\n",
       "<style scoped>\n",
       "    .dataframe tbody tr th:only-of-type {\n",
       "        vertical-align: middle;\n",
       "    }\n",
       "\n",
       "    .dataframe tbody tr th {\n",
       "        vertical-align: top;\n",
       "    }\n",
       "\n",
       "    .dataframe thead th {\n",
       "        text-align: right;\n",
       "    }\n",
       "</style>\n",
       "<table border=\"1\" class=\"dataframe\">\n",
       "  <thead>\n",
       "    <tr style=\"text-align: right;\">\n",
       "      <th></th>\n",
       "      <th>mentor</th>\n",
       "      <th>email</th>\n",
       "    </tr>\n",
       "  </thead>\n",
       "  <tbody>\n",
       "    <tr>\n",
       "      <th>0</th>\n",
       "      <td>Test Mentor</td>\n",
       "      <td>nycdatafun@gmail.com</td>\n",
       "    </tr>\n",
       "  </tbody>\n",
       "</table>\n",
       "</div>"
      ],
      "text/plain": [
       "        mentor                 email\n",
       "0  Test Mentor  nycdatafun@gmail.com"
      ]
     },
     "execution_count": 3,
     "metadata": {},
     "output_type": "execute_result"
    }
   ],
   "source": [
    "mentors"
   ]
  },
  {
   "cell_type": "markdown",
   "id": "8d56ca3d",
   "metadata": {},
   "source": [
    "### Actually collect reports:\n",
    "\n",
    "- In case an old report needs to be regenerated, change `target_date` below to indicate the week to be redone."
   ]
  },
  {
   "cell_type": "code",
   "execution_count": 4,
   "id": "41c04a16",
   "metadata": {},
   "outputs": [
    {
     "data": {
      "text/html": [
       "<div>\n",
       "<style scoped>\n",
       "    .dataframe tbody tr th:only-of-type {\n",
       "        vertical-align: middle;\n",
       "    }\n",
       "\n",
       "    .dataframe tbody tr th {\n",
       "        vertical-align: top;\n",
       "    }\n",
       "\n",
       "    .dataframe thead th {\n",
       "        text-align: right;\n",
       "    }\n",
       "</style>\n",
       "<table border=\"1\" class=\"dataframe\">\n",
       "  <thead>\n",
       "    <tr style=\"text-align: right;\">\n",
       "      <th></th>\n",
       "      <th>mentor</th>\n",
       "      <th>student</th>\n",
       "      <th>folder_id</th>\n",
       "      <th>form_url</th>\n",
       "      <th>Timestamp</th>\n",
       "      <th>What's the student's comfort level on the subject this week?</th>\n",
       "      <th>Your comment on the student's performance?</th>\n",
       "    </tr>\n",
       "  </thead>\n",
       "  <tbody>\n",
       "    <tr>\n",
       "      <th>0</th>\n",
       "      <td>Test Mentor</td>\n",
       "      <td>Luke Landwalker</td>\n",
       "      <td>1-CF6p_lm4Mo5kOOGFnz9wgZG0zIiXYs9</td>\n",
       "      <td>https://forms.gle/wkTM923e2gjQoQG76</td>\n",
       "      <td>NaT</td>\n",
       "      <td>NaN</td>\n",
       "      <td>NaN</td>\n",
       "    </tr>\n",
       "    <tr>\n",
       "      <th>1</th>\n",
       "      <td>Test Mentor</td>\n",
       "      <td>Luke Dragon</td>\n",
       "      <td>1lppKfLfkdU9CeX-gJ1dhvYnwZLK3GidP</td>\n",
       "      <td>https://forms.gle/BaSp5QtSts6xxEQS6</td>\n",
       "      <td>NaT</td>\n",
       "      <td>NaN</td>\n",
       "      <td>NaN</td>\n",
       "    </tr>\n",
       "  </tbody>\n",
       "</table>\n",
       "</div>"
      ],
      "text/plain": [
       "        mentor          student                          folder_id  \\\n",
       "0  Test Mentor  Luke Landwalker  1-CF6p_lm4Mo5kOOGFnz9wgZG0zIiXYs9   \n",
       "1  Test Mentor      Luke Dragon  1lppKfLfkdU9CeX-gJ1dhvYnwZLK3GidP   \n",
       "\n",
       "                              form_url Timestamp  \\\n",
       "0  https://forms.gle/wkTM923e2gjQoQG76       NaT   \n",
       "1  https://forms.gle/BaSp5QtSts6xxEQS6       NaT   \n",
       "\n",
       "  What's the student's comfort level on the subject this week?  \\\n",
       "0                                                NaN             \n",
       "1                                                NaN             \n",
       "\n",
       "  Your comment on the student's performance?  \n",
       "0                                        NaN  \n",
       "1                                        NaN  "
      ]
     },
     "execution_count": 4,
     "metadata": {},
     "output_type": "execute_result"
    }
   ],
   "source": [
    "from datetime import datetime\n",
    "target_date = datetime.today() # or datetime(2022,2, 25) \n",
    "\n",
    "reports = collect_weekly_report(target_date)\n",
    "reports"
   ]
  },
  {
   "cell_type": "markdown",
   "id": "2f3c4f16",
   "metadata": {},
   "source": [
    "## Task 2: Reminders to Mentors\n",
    "\n",
    "The coordinator can decide a few \"reminding points\" to run the code below. First find out the mentors who haven't submitted a report for the week.\n",
    "\n",
    "**Note**: the reminder message template is stored in the location as indicated in config. Once the message template is modified, the function that generates the actual message might need to be updated as well. The function is `ctt.mngmnt_utils.reminder.compose_missing_report_aler`."
   ]
  },
  {
   "cell_type": "code",
   "execution_count": 5,
   "id": "5788d8a4",
   "metadata": {},
   "outputs": [
    {
     "data": {
      "text/plain": [
       "[['Luke Dragon',\n",
       "  'Test Mentor',\n",
       "  'nycdatafun@gmail.com',\n",
       "  'https://forms.gle/BaSp5QtSts6xxEQS6'],\n",
       " ['Luke Landwalker',\n",
       "  'Test Mentor',\n",
       "  'nycdatafun@gmail.com',\n",
       "  'https://forms.gle/wkTM923e2gjQoQG76']]"
      ]
     },
     "execution_count": 5,
     "metadata": {},
     "output_type": "execute_result"
    }
   ],
   "source": [
    "missing = aggregate_missing(reports, mentors)\n",
    "missing"
   ]
  },
  {
   "cell_type": "markdown",
   "id": "f7b1bc11",
   "metadata": {},
   "source": [
    "- Send an reminder to each mentor."
   ]
  },
  {
   "cell_type": "code",
   "execution_count": 6,
   "id": "09e830f1",
   "metadata": {},
   "outputs": [
    {
     "name": "stdout",
     "output_type": "stream",
     "text": [
      "Message Id: 17ff7a0099c36c50\n",
      "Message Id: 17ff7a00b7b680d7\n"
     ]
    }
   ],
   "source": [
    "send_reminder_to_mentors(missing, target_date)"
   ]
  },
  {
   "cell_type": "markdown",
   "id": "43f3bf4b",
   "metadata": {},
   "source": [
    "## Task 3: Report to Client's Training Manager\n",
    "\n",
    "- The topic of the week needs to be specified down there.\n",
    "- Once generated the report is of the format of HTML. The coordinator should review the report and if everything is good print it out as a pdf file and then send to the training manager of the client."
   ]
  },
  {
   "cell_type": "code",
   "execution_count": 7,
   "id": "2c23777d",
   "metadata": {},
   "outputs": [
    {
     "name": "stdout",
     "output_type": "stream",
     "text": [
      "The generated report is stored at ./reports/report2mngr_2022-04-04.html.\n"
     ]
    }
   ],
   "source": [
    "topic = \"Python 101\"\n",
    "\n",
    "create_html_report_to_client(reports, topic, target_date)"
   ]
  },
  {
   "cell_type": "code",
   "execution_count": null,
   "id": "0c218b39",
   "metadata": {},
   "outputs": [],
   "source": []
  }
 ],
 "metadata": {
  "kernelspec": {
   "display_name": "Python 3 (ipykernel)",
   "language": "python",
   "name": "python3"
  },
  "language_info": {
   "codemirror_mode": {
    "name": "ipython",
    "version": 3
   },
   "file_extension": ".py",
   "mimetype": "text/x-python",
   "name": "python",
   "nbconvert_exporter": "python",
   "pygments_lexer": "ipython3",
   "version": "3.9.1"
  }
 },
 "nbformat": 4,
 "nbformat_minor": 5
}
